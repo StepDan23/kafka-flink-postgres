{
 "cells": [
  {
   "cell_type": "code",
   "execution_count": 16,
   "metadata": {},
   "outputs": [],
   "source": [
    "import sys\n",
    "sys.path.append('../')"
   ]
  },
  {
   "cell_type": "code",
   "execution_count": 17,
   "metadata": {},
   "outputs": [],
   "source": [
    "import numpy as np\n",
    "from src.utils import publish_message, read_messages\n",
    "from src.utils import connect_kafka_producer, connect_kafka_consumer"
   ]
  },
  {
   "cell_type": "code",
   "execution_count": 18,
   "metadata": {},
   "outputs": [],
   "source": [
    "kafka_servers = ['kafka:9093']\n",
    "kafka_topics = ['mytopic', 'bookmarks']"
   ]
  },
  {
   "cell_type": "code",
   "execution_count": 19,
   "metadata": {},
   "outputs": [],
   "source": [
    "def generate_clickstream(n_samples=5):\n",
    "    sample = []\n",
    "    for i in range(n_samples):\n",
    "        key = f\"user_{np.random.randint(1000)}\"\n",
    "        item = f\"item_{np.random.randint(30)}\"\n",
    "        reaction = np.random.choice(['like', 'dislike', 'comment'])\n",
    "        value = {item: reaction}\n",
    "        sample.append((key, value))\n",
    "    return sample"
   ]
  },
  {
   "cell_type": "code",
   "execution_count": 20,
   "metadata": {},
   "outputs": [],
   "source": [
    "def generate_bookmarks(n_samples=5):\n",
    "    sample = []\n",
    "    for i in range(n_samples):\n",
    "        key = f\"user_{np.random.randint(1000)}\"\n",
    "        value = f\"item_{np.random.randint(30)}\"\n",
    "        sample.append((key, value))\n",
    "    return sample"
   ]
  },
  {
   "cell_type": "code",
   "execution_count": 21,
   "metadata": {},
   "outputs": [
    {
     "name": "stdout",
     "output_type": "stream",
     "text": [
      "Message 'user_603: {'item_7': 'like'}' published successfully.\n",
      "Message 'user_967: {'item_5': 'dislike'}' published successfully.\n",
      "Message 'user_63: {'item_4': 'comment'}' published successfully.\n",
      "Message 'user_243: {'item_24': 'dislike'}' published successfully.\n",
      "Message 'user_376: {'item_5': 'dislike'}' published successfully.\n"
     ]
    }
   ],
   "source": [
    "producer = connect_kafka_producer(kafka_servers)\n",
    "\n",
    "for key, value in generate_clickstream(5):\n",
    "    publish_message(producer, kafka_topics[0], key, value)"
   ]
  },
  {
   "cell_type": "code",
   "execution_count": 22,
   "metadata": {},
   "outputs": [
    {
     "name": "stdout",
     "output_type": "stream",
     "text": [
      "Message 'user_482: item_27' published successfully.\n",
      "Message 'user_235: item_3' published successfully.\n",
      "Message 'user_92: item_9' published successfully.\n",
      "Message 'user_963: item_23' published successfully.\n",
      "Message 'user_956: item_3' published successfully.\n"
     ]
    }
   ],
   "source": [
    "for key, value in generate_bookmarks(5):\n",
    "    publish_message(producer, kafka_topics[1], key, value)"
   ]
  },
  {
   "cell_type": "code",
   "execution_count": 23,
   "metadata": {},
   "outputs": [
    {
     "name": "stdout",
     "output_type": "stream",
     "text": [
      "adding consumer for mytopic topic\n",
      "adding consumer for bookmarks topic\n"
     ]
    }
   ],
   "source": [
    "consumers = []\n",
    "for topic in kafka_topics:\n",
    "    print(f\"adding consumer for {topic} topic\")\n",
    "    consumers.append(connect_kafka_consumer(topic, kafka_servers))"
   ]
  },
  {
   "cell_type": "code",
   "execution_count": 24,
   "metadata": {},
   "outputs": [
    {
     "name": "stdout",
     "output_type": "stream",
     "text": [
      "__reading from {'mytopic'} topics__\n",
      "{'1': 'pop'}\n",
      "{'epk_id': 14022179, 'content_id': 3428, 'event_type': 'Complete', 'event_ts': 1882900949450, 'insert_ts': 1586150466290}\n",
      "{'epk_id': 14022179, 'content_id': 3428, 'event_type': 'Complete', 'event_ts': 1882900949450, 'insert_ts': 1586150466290}\n",
      "{'epk_id': 14022179, 'content_id': 3428, 'event_type': 'Complete', 'event_ts': 1882900949450, 'insert_ts': 1586150466290}\n",
      "{'epk_id': 14022179, 'content_id': 3428, 'event_type': 'Complete', 'event_ts': 1882900949450, 'insert_ts': 1586150466290}\n",
      "{'epk_id': 14022179, 'content_id': 3428, 'event_type': 'Complete', 'event_ts': 1882900949450, 'insert_ts': 1586150466290}\n",
      "{'epk_id': 14022179, 'content_id': 3428, 'event_type': 'Complete', 'event_ts': 1882900949450, 'insert_ts': 1586150466290}\n",
      "{'epk_id': 14022179, 'content_id': 3428, 'event_type': 'Complete', 'event_ts': 1882900949450, 'insert_ts': 1586150466290}\n",
      "{'epk_id': 14022179, 'content_id': 3428, 'event_type': 'Complete', 'event_ts': 1882900949450, 'insert_ts': 1586150466290}\n",
      "{'epk_id': 14022179, 'content_id': 3428, 'event_type': 'Complete', 'event_ts': 1882900949450, 'insert_ts': 1586150466290}\n",
      "{'epk_id': 14022179, 'content_id': 3428, 'event_type': 'Complete', 'event_ts': 1882900949450, 'insert_ts': 1586150466290}\n",
      "{'epk_id': 10673332, 'content_id': 8908, 'event_type': 'Show', 'event_ts': 2356434150544, 'insert_ts': 1586253992507}\n",
      "{'epk_id': 33915893, 'content_id': 8485, 'event_type': 'Show', 'event_ts': 2320142550461, 'insert_ts': 1586253992507}\n",
      "{'epk_id': 57397347, 'content_id': 9872, 'event_type': 'Like', 'event_ts': 2439914550727, 'insert_ts': 1586253992507}\n",
      "{'epk_id': 37047068, 'content_id': 1853, 'event_type': 'Show', 'event_ts': 1746788549142, 'insert_ts': 1586253992507}\n",
      "{'epk_id': 25001384, 'content_id': 5646, 'event_type': 'Click', 'event_ts': 2074590149887, 'insert_ts': 1586253992507}\n",
      "{'epk_id': 76235138, 'content_id': 644, 'event_type': 'Show', 'event_ts': 1642158148914, 'insert_ts': 1586254069056}\n",
      "{'epk_id': 68322169, 'content_id': 8471, 'event_type': 'Complete', 'event_ts': 2318907750458, 'insert_ts': 1586254069056}\n",
      "{'epk_id': 83450704, 'content_id': 5205, 'event_type': 'Show', 'event_ts': 2036487749803, 'insert_ts': 1586254069056}\n",
      "{'epk_id': 55947152, 'content_id': 2717, 'event_type': 'Show', 'event_ts': 1821783749301, 'insert_ts': 1586254069056}\n",
      "{'epk_id': 39099877, 'content_id': 6691, 'event_type': 'Click', 'event_ts': 2164712550095, 'insert_ts': 1586254069056}\n",
      "{'epk_id': 98505101, 'content_id': 7612, 'event_type': 'Show', 'event_ts': 2244556950290, 'insert_ts': 1586254091489}\n",
      "{'epk_id': 57139557, 'content_id': 8884, 'event_type': 'Show', 'event_ts': 2354616150540, 'insert_ts': 1586254091489}\n",
      "{'epk_id': 28895829, 'content_id': 4941, 'event_type': 'Show', 'event_ts': 2013512549752, 'insert_ts': 1586254091489}\n",
      "{'epk_id': 26594561, 'content_id': 6571, 'event_type': 'Show', 'event_ts': 2154434550071, 'insert_ts': 1586254091489}\n",
      "{'epk_id': 83696176, 'content_id': 8874, 'event_type': 'Show', 'event_ts': 2353420950538, 'insert_ts': 1586254091489}\n",
      "{'epk_id': 12086675, 'content_id': 1446, 'event_type': 'Click', 'event_ts': 1711702949066, 'insert_ts': 1586254104739}\n",
      "{'epk_id': 60366431, 'content_id': 9649, 'event_type': 'Show', 'event_ts': 2420524950682, 'insert_ts': 1586254104739}\n",
      "{'epk_id': 48305427, 'content_id': 3190, 'event_type': 'Show', 'event_ts': 1862305349396, 'insert_ts': 1586254104739}\n",
      "{'epk_id': 389622, 'content_id': 6268, 'event_type': 'Show', 'event_ts': 2128424550004, 'insert_ts': 1586254104739}\n",
      "{'epk_id': 66365508, 'content_id': 8426, 'event_type': 'Show', 'event_ts': 2314674150449, 'insert_ts': 1586254104739}\n",
      "{'epk_id': 30813461, 'content_id': 7403, 'event_type': 'Click', 'event_ts': 2226384150251, 'insert_ts': 1586254127538}\n",
      "{'epk_id': 98681143, 'content_id': 2542, 'event_type': 'Show', 'event_ts': 1806667349269, 'insert_ts': 1586254127538}\n",
      "{'epk_id': 97636405, 'content_id': 7868, 'event_type': 'Show', 'event_ts': 2266308150339, 'insert_ts': 1586254127538}\n",
      "{'epk_id': 43771463, 'content_id': 6825, 'event_type': 'Dislike', 'event_ts': 2176185750138, 'insert_ts': 1586254127538}\n",
      "{'epk_id': 18885208, 'content_id': 8395, 'event_type': 'Show', 'event_ts': 2312280150444, 'insert_ts': 1586254127538}\n",
      "{'epk_id': 2632790, 'content_id': 2695, 'event_type': 'Click', 'event_ts': 1819378949297, 'insert_ts': 1586254212624}\n",
      "{'epk_id': 814551, 'content_id': 344, 'event_type': 'Show', 'event_ts': 1616770948855, 'insert_ts': 1586254212624}\n",
      "{'epk_id': 76593823, 'content_id': 4094, 'event_type': 'Show', 'event_ts': 1940328149581, 'insert_ts': 1586254212624}\n",
      "{'epk_id': 50070635, 'content_id': 1465, 'event_type': 'Show', 'event_ts': 1713553349069, 'insert_ts': 1586254212624}\n",
      "{'epk_id': 49883728, 'content_id': 7279, 'event_type': 'Dislike', 'event_ts': 2215512150226, 'insert_ts': 1586254212624}\n",
      "{'epk_id': 6398455, 'content_id': 9139, 'event_type': 'Show', 'event_ts': 2376392550589, 'insert_ts': 1586254358637}\n",
      "{'epk_id': 76404095, 'content_id': 8907, 'event_type': 'Show', 'event_ts': 2356448550544, 'insert_ts': 1586254358637}\n",
      "{'epk_id': 27089505, 'content_id': 4478, 'event_type': 'Show', 'event_ts': 1973588549656, 'insert_ts': 1586254358637}\n",
      "{'epk_id': 14797309, 'content_id': 4410, 'event_type': 'Show', 'event_ts': 1967540549642, 'insert_ts': 1586254358637}\n",
      "{'epk_id': 66674602, 'content_id': 5760, 'event_type': 'Show', 'event_ts': 2084274149908, 'insert_ts': 1586254358637}\n",
      "{'epk_id': 42721650, 'content_id': 263, 'event_type': 'Show', 'event_ts': 1609509748839, 'insert_ts': 1586254884410}\n",
      "{'epk_id': 67768869, 'content_id': 7810, 'event_type': 'Show', 'event_ts': 2261476950328, 'insert_ts': 1586254884410}\n",
      "{'epk_id': 92753528, 'content_id': 1657, 'event_type': 'Show', 'event_ts': 1729861349104, 'insert_ts': 1586254884410}\n",
      "{'epk_id': 37409081, 'content_id': 2996, 'event_type': 'Complete', 'event_ts': 1845374549353, 'insert_ts': 1586254884410}\n",
      "{'epk_id': 53666111, 'content_id': 5933, 'event_type': 'Show', 'event_ts': 2099386949940, 'insert_ts': 1586254884410}\n",
      "{'epk_id': 86162711, 'content_id': 4688, 'event_type': 'Show', 'event_ts': 1991725349701, 'insert_ts': 1586255857232}\n",
      "{'epk_id': 81873905, 'content_id': 6148, 'event_type': 'Dislike', 'event_ts': 2118124949981, 'insert_ts': 1586255857232}\n",
      "{'epk_id': 89899524, 'content_id': 2029, 'event_type': 'Show', 'event_ts': 1761897749174, 'insert_ts': 1586255857232}\n",
      "{'epk_id': 27299588, 'content_id': 7046, 'event_type': 'Show', 'event_ts': 2195514150180, 'insert_ts': 1586255857232}\n",
      "{'epk_id': 34136367, 'content_id': 6744, 'event_type': 'Show', 'event_ts': 2169536550119, 'insert_ts': 1586255857232}\n",
      "{'epk_id': 28292207, 'content_id': 5848, 'event_type': 'Show', 'event_ts': 2092096949924, 'insert_ts': 1586255857232}\n",
      "{'epk_id': 5139393, 'content_id': 2540, 'event_type': 'Show', 'event_ts': 1806044549269, 'insert_ts': 1586255857232}\n",
      "{'epk_id': 69806352, 'content_id': 497, 'event_type': 'Show', 'event_ts': 1629450148886, 'insert_ts': 1586255857232}\n",
      "{'epk_id': 63006990, 'content_id': 3620, 'event_type': 'Show', 'event_ts': 1899799349487, 'insert_ts': 1586255857232}\n",
      "{'epk_id': 76024312, 'content_id': 5961, 'event_type': 'Show', 'event_ts': 2101777349945, 'insert_ts': 1586255857232}\n",
      "{'epk_id': 25118464, 'content_id': 1467, 'event_type': 'Show', 'event_ts': 1713553349069, 'insert_ts': 1586255923144}\n",
      "{'epk_id': 80948784, 'content_id': 8304, 'event_type': 'Show', 'event_ts': 2304410550426, 'insert_ts': 1586255923144}\n",
      "{'epk_id': 78439818, 'content_id': 2976, 'event_type': 'Click', 'event_ts': 1844172149348, 'insert_ts': 1586255923144}\n",
      "{'epk_id': 62959133, 'content_id': 2689, 'event_type': 'Complete', 'event_ts': 1819375349296, 'insert_ts': 1586255923144}\n",
      "{'epk_id': 57335801, 'content_id': 7026, 'event_type': 'Show', 'event_ts': 2193739350176, 'insert_ts': 1586255923144}\n",
      "{'epk_id': 33575289, 'content_id': 7311, 'event_type': 'Show', 'event_ts': 2218528950233, 'insert_ts': 1586255923144}\n",
      "{'epk_id': 40315566, 'content_id': 8062, 'event_type': 'Click', 'event_ts': 2283274950378, 'insert_ts': 1586255923144}\n",
      "{'epk_id': 23356471, 'content_id': 1882, 'event_type': 'Show', 'event_ts': 1749218549147, 'insert_ts': 1586255923144}\n",
      "{'epk_id': 23465522, 'content_id': 3258, 'event_type': 'Complete', 'event_ts': 1868371349412, 'insert_ts': 1586255923144}\n",
      "{'epk_id': 12908086, 'content_id': 2101, 'event_type': 'Click', 'event_ts': 1768586549188, 'insert_ts': 1586255923144}\n",
      "{'epk_id': 91962048, 'content_id': 2990, 'event_type': 'Show', 'event_ts': 1845370949351, 'insert_ts': 1586256507395}\n",
      "{'epk_id': 40854646, 'content_id': 20, 'event_type': 'Show', 'event_ts': 1588327348793, 'insert_ts': 1586256507395}\n",
      "{'epk_id': 33357426, 'content_id': 7026, 'event_type': 'Show', 'event_ts': 2193714150176, 'insert_ts': 1586256507395}\n",
      "{'epk_id': 35983309, 'content_id': 8265, 'event_type': 'Show', 'event_ts': 2300781750418, 'insert_ts': 1586256507395}\n",
      "{'epk_id': 14464735, 'content_id': 1665, 'event_type': 'Show', 'event_ts': 1730451749106, 'insert_ts': 1586256507395}\n",
      "{'epk_id': 45406237, 'content_id': 4506, 'event_type': 'Show', 'event_ts': 1975986149662, 'insert_ts': 1586256507395}\n",
      "{'epk_id': 13838256, 'content_id': 8721, 'event_type': 'Show', 'event_ts': 2340093750508, 'insert_ts': 1586256507395}\n",
      "{'epk_id': 31858539, 'content_id': 250, 'event_type': 'Show', 'event_ts': 1608289348837, 'insert_ts': 1586256507395}\n",
      "{'epk_id': 39595080, 'content_id': 8901, 'event_type': 'Show', 'event_ts': 2355804150543, 'insert_ts': 1586256507395}\n",
      "{'epk_id': 4057851, 'content_id': 6969, 'event_type': 'Show', 'event_ts': 2188868550165, 'insert_ts': 1586256507395}\n",
      "{'epk_id': 7275308, 'content_id': 5899, 'event_type': 'Show', 'event_ts': 2096391749934, 'insert_ts': 1586257321666}\n",
      "{'epk_id': 40770960, 'content_id': 2940, 'event_type': 'Show', 'event_ts': 1840550549342, 'insert_ts': 1586257321666}\n",
      "{'epk_id': 86726503, 'content_id': 2791, 'event_type': 'Show', 'event_ts': 1827860549315, 'insert_ts': 1586257321666}\n",
      "{'epk_id': 39622951, 'content_id': 5180, 'event_type': 'Show', 'event_ts': 2034079349799, 'insert_ts': 1586257321666}\n",
      "{'epk_id': 65908662, 'content_id': 2994, 'event_type': 'Click', 'event_ts': 1845374549352, 'insert_ts': 1586257321666}\n",
      "{'epk_id': 44678868, 'content_id': 3264, 'event_type': 'Complete', 'event_ts': 1868983349414, 'insert_ts': 1586257321666}\n",
      "{'epk_id': 17889351, 'content_id': 1713, 'event_type': 'Show', 'event_ts': 1734724949115, 'insert_ts': 1586257321666}\n",
      "{'epk_id': 18611866, 'content_id': 7932, 'event_type': 'Show', 'event_ts': 2272388550352, 'insert_ts': 1586257321666}\n",
      "{'epk_id': 72794980, 'content_id': 4907, 'event_type': 'Show', 'event_ts': 2010492149745, 'insert_ts': 1586257321666}\n",
      "{'epk_id': 99181055, 'content_id': 7275, 'event_type': 'Show', 'event_ts': 2215512150225, 'insert_ts': 1586257321666}\n",
      "{'epk_id': 89912285, 'content_id': 3174, 'event_type': 'Show', 'event_ts': 1861113749392, 'insert_ts': 1586257681071}\n",
      "{'epk_id': 64864376, 'content_id': 555, 'event_type': 'Show', 'event_ts': 1634911348897, 'insert_ts': 1586257681071}\n",
      "{'epk_id': 19904711, 'content_id': 4192, 'event_type': 'Show', 'event_ts': 1948795349602, 'insert_ts': 1586257681071}\n",
      "{'epk_id': 4068527, 'content_id': 8193, 'event_type': 'Show', 'event_ts': 2294740950403, 'insert_ts': 1586257681071}\n",
      "{'epk_id': 81089052, 'content_id': 143, 'event_type': 'Show', 'event_ts': 1599220948817, 'insert_ts': 1586257681071}\n",
      "{'epk_id': 40488530, 'content_id': 7445, 'event_type': 'Show', 'event_ts': 2230052550259, 'insert_ts': 1586257681071}\n",
      "{'epk_id': 94887741, 'content_id': 5072, 'event_type': 'Show', 'event_ts': 2025007349778, 'insert_ts': 1586257681071}\n",
      "{'epk_id': 89843626, 'content_id': 7148, 'event_type': 'Show', 'event_ts': 2204625750198, 'insert_ts': 1586257681071}\n",
      "{'epk_id': 91481599, 'content_id': 7486, 'event_type': 'Show', 'event_ts': 2233684950266, 'insert_ts': 1586257681071}\n",
      "{'epk_id': 77528526, 'content_id': 7131, 'event_type': 'Show', 'event_ts': 2202814950195, 'insert_ts': 1586257681071}\n",
      "{'epk_id': 51480781, 'content_id': 8225, 'event_type': 'Complete', 'event_ts': 2297149350411, 'insert_ts': 1586257761064}\n",
      "{'epk_id': 65272305, 'content_id': 1247, 'event_type': 'Show', 'event_ts': 1694779349027, 'insert_ts': 1586257761064}\n",
      "{'epk_id': 12878593, 'content_id': 5883, 'event_type': 'Show', 'event_ts': 2095160549931, 'insert_ts': 1586257761064}\n",
      "{'epk_id': 11163981, 'content_id': 3435, 'event_type': 'Show', 'event_ts': 1883466149452, 'insert_ts': 1586257761064}\n",
      "{'epk_id': 37477455, 'content_id': 3599, 'event_type': 'Show', 'event_ts': 1897974149483, 'insert_ts': 1586257761064}\n",
      "{'epk_id': 50521448, 'content_id': 6140, 'event_type': 'Show', 'event_ts': 2117527349979, 'insert_ts': 1586257761064}\n",
      "{'epk_id': 88070128, 'content_id': 2318, 'event_type': 'Show', 'event_ts': 1787292149228, 'insert_ts': 1586257761064}\n",
      "{'epk_id': 78227908, 'content_id': 6326, 'event_type': 'Show', 'event_ts': 2133237750015, 'insert_ts': 1586257761064}\n",
      "{'epk_id': 4882092, 'content_id': 4625, 'event_type': 'Show', 'event_ts': 1986300149689, 'insert_ts': 1586257761064}\n",
      "{'epk_id': 34470630, 'content_id': 212, 'event_type': 'Show', 'event_ts': 1605279748830, 'insert_ts': 1586257761064}\n",
      "{'epk_id': 15677303, 'content_id': 8457, 'event_type': 'Show', 'event_ts': 2317705350455, 'insert_ts': 1586257878296}\n",
      "{'epk_id': 87934246, 'content_id': 8077, 'event_type': 'Show', 'event_ts': 2284441350381, 'insert_ts': 1586257878296}\n",
      "{'epk_id': 71005415, 'content_id': 2997, 'event_type': 'Show', 'event_ts': 1845957749353, 'insert_ts': 1586257878296}\n",
      "{'epk_id': 38331308, 'content_id': 5930, 'event_type': 'Show', 'event_ts': 2099372549939, 'insert_ts': 1586257878296}\n",
      "{'epk_id': 97124742, 'content_id': 1988, 'event_type': 'Complete', 'event_ts': 1758276149167, 'insert_ts': 1586257878296}\n",
      "{'epk_id': 86348646, 'content_id': 5734, 'event_type': 'Click', 'event_ts': 2082452549903, 'insert_ts': 1586257878296}\n",
      "{'epk_id': 67835092, 'content_id': 1051, 'event_type': 'Show', 'event_ts': 1677826948990, 'insert_ts': 1586257878296}\n",
      "{'epk_id': 94488333, 'content_id': 3213, 'event_type': 'Show', 'event_ts': 1864105349402, 'insert_ts': 1586257878296}\n",
      "{'epk_id': 89874939, 'content_id': 8355, 'event_type': 'Show', 'event_ts': 2308626150436, 'insert_ts': 1586257878296}\n",
      "{'epk_id': 37271145, 'content_id': 984, 'event_type': 'Show', 'event_ts': 1671796948977, 'insert_ts': 1586257878296}\n",
      "{'epk_id': 83145668, 'content_id': 2271, 'event_type': 'Show', 'event_ts': 1783087349219, 'insert_ts': 1586259028286}\n",
      "{'epk_id': 17108305, 'content_id': 2659, 'event_type': 'Show', 'event_ts': 1816362149290, 'insert_ts': 1586259028286}\n",
      "{'epk_id': 26176485, 'content_id': 4446, 'event_type': 'Show', 'event_ts': 1971180149649, 'insert_ts': 1586259028286}\n",
      "{'epk_id': 49228057, 'content_id': 6113, 'event_type': 'Show', 'event_ts': 2115133349974, 'insert_ts': 1586259028286}\n",
      "{'epk_id': 89899222, 'content_id': 7169, 'event_type': 'Show', 'event_ts': 2206447350202, 'insert_ts': 1586259028286}\n",
      "{'epk_id': 63075940, 'content_id': 3364, 'event_type': 'Show', 'event_ts': 1877432549435, 'insert_ts': 1586259028286}\n",
      "{'epk_id': 98480120, 'content_id': 4984, 'event_type': 'Show', 'event_ts': 2017130549761, 'insert_ts': 1586259028286}\n",
      "{'epk_id': 67429321, 'content_id': 3852, 'event_type': 'Show', 'event_ts': 1919790149532, 'insert_ts': 1586259028286}\n",
      "{'epk_id': 79279175, 'content_id': 7043, 'event_type': 'Show', 'event_ts': 2195550150179, 'insert_ts': 1586259028286}\n",
      "{'epk_id': 7979905, 'content_id': 1675, 'event_type': 'Show', 'event_ts': 1731679349108, 'insert_ts': 1586259028286}\n",
      "{'epk_id': 18382990, 'content_id': 2734, 'event_type': 'Show', 'event_ts': 1822960949304, 'insert_ts': 1586259350335}\n",
      "{'epk_id': 35143073, 'content_id': 4455, 'event_type': 'Click', 'event_ts': 1971766949651, 'insert_ts': 1586259350335}\n",
      "{'epk_id': 6613060, 'content_id': 2519, 'event_type': 'Show', 'event_ts': 1804222949265, 'insert_ts': 1586259350335}\n",
      "{'epk_id': 72180206, 'content_id': 8330, 'event_type': 'Click', 'event_ts': 2306217750431, 'insert_ts': 1586259350335}\n",
      "{'epk_id': 55450249, 'content_id': 1148, 'event_type': 'Show', 'event_ts': 1685696549008, 'insert_ts': 1586259350335}\n",
      "{'epk_id': 58816342, 'content_id': 9969, 'event_type': 'Click', 'event_ts': 2448356550754, 'insert_ts': 1586259350335}\n",
      "{'epk_id': 85672744, 'content_id': 352, 'event_type': 'Show', 'event_ts': 1617332548856, 'insert_ts': 1586259350335}\n",
      "{'epk_id': 4294502, 'content_id': 9834, 'event_type': 'Show', 'event_ts': 2436228150719, 'insert_ts': 1586259350335}\n",
      "{'epk_id': 64964219, 'content_id': 6193, 'event_type': 'Show', 'event_ts': 2121753749989, 'insert_ts': 1586259350335}\n",
      "{'epk_id': 38929249, 'content_id': 3058, 'event_type': 'Show', 'event_ts': 1850781749366, 'insert_ts': 1586259350335}\n",
      "{'user_698': {'item_12': 'comment'}}\n",
      "{'user_635': {'item_0': 'like'}}\n",
      "{'user_961': {'item_14': 'like'}}\n",
      "{'user_342': {'item_2': 'comment'}}\n",
      "{'user_556': {'item_25': 'dislike'}}\n",
      "{'user_390': {'item_25': 'dislike'}}\n",
      "{'user_946': {'item_5': 'like'}}\n",
      "{'user_363': {'item_29': 'dislike'}}\n",
      "{'user_42': {'item_14': 'like'}}\n",
      "{'user_237': {'item_24': 'dislike'}}\n",
      "{'user_287': {'item_0': 'dislike'}}\n",
      "{'user_218': {'item_26': 'dislike'}}\n",
      "{'user_447': {'item_9': 'dislike'}}\n",
      "{'user_410': {'item_5': 'like'}}\n",
      "{'user_928': {'item_20': 'dislike'}}\n",
      "{'user_950': {'item_19': 'like'}}\n",
      "{'user_882': {'item_26': 'like'}}\n",
      "{'user_694': {'item_28': 'like'}}\n",
      "{'user_688': {'item_25': 'dislike'}}\n",
      "{'user_270': {'item_24': 'comment'}}\n",
      "{'user_836': {'item_25': 'like'}}\n",
      "{'user_666': {'item_23': 'comment'}}\n",
      "{'user_517': {'item_29': 'dislike'}}\n",
      "{'user_423': {'item_20': 'like'}}\n",
      "{'user_327': {'item_15': 'comment'}}\n",
      "{'user_631': {'item_24': 'like'}}\n",
      "{'user_601': {'item_29': 'dislike'}}\n",
      "{'user_401': {'item_27': 'dislike'}}\n",
      "{'user_155': {'item_4': 'comment'}}\n",
      "{'user_89': {'item_13': 'dislike'}}\n",
      "{'user_269': {'item_27': 'like'}}\n",
      "{'user_869': {'item_29': 'dislike'}}\n",
      "{'user_10': {'item_20': 'dislike'}}\n",
      "{'user_149': {'item_14': 'dislike'}}\n",
      "{'user_853': {'item_12': 'like'}}\n",
      "{'user_867': {'item_28': 'like'}}\n",
      "{'user_274': {'item_29': 'like'}}\n",
      "{'user_303': {'item_8': 'dislike'}}\n",
      "{'user_616': {'item_23': 'dislike'}}\n",
      "{'user_174': {'item_29': 'comment'}}\n",
      "{'user_529': {'item_5': 'like'}}\n",
      "{'user_978': {'item_3': 'like'}}\n",
      "{'user_672': {'item_21': 'comment'}}\n",
      "{'user_831': {'item_14': 'comment'}}\n",
      "{'user_196': {'item_7': 'like'}}\n",
      "{'user_3': {'item_0': 'like'}}\n",
      "{'user_868': {'item_26': 'like'}}\n",
      "{'user_933': {'item_0': 'like'}}\n",
      "{'user_342': {'item_17': 'like'}}\n",
      "{'user_191': {'item_21': 'like'}}\n",
      "{'user_711': {'item_28': 'comment'}}\n",
      "{'user_594': {'item_17': 'comment'}}\n",
      "{'user_347': {'item_13': 'like'}}\n",
      "{'user_175': {'item_14': 'like'}}\n",
      "{'user_144': {'item_13': 'like'}}\n",
      "{'user_32': {'item_14': 'comment'}}\n",
      "{'user_699': {'item_25': 'like'}}\n",
      "{'user_870': {'item_9': 'dislike'}}\n",
      "{'user_576': {'item_4': 'dislike'}}\n",
      "{'user_916': {'item_5': 'like'}}\n",
      "{'user_566': {'item_10': 'dislike'}}\n",
      "{'user_766': {'item_6': 'like'}}\n",
      "{'user_857': {'item_22': 'like'}}\n",
      "{'user_438': {'item_13': 'like'}}\n",
      "{'user_807': {'item_22': 'dislike'}}\n",
      "{'user_378': {'item_29': 'dislike'}}\n",
      "{'user_924': {'item_7': 'comment'}}\n",
      "{'user_621': {'item_3': 'dislike'}}\n",
      "{'user_351': {'item_23': 'dislike'}}\n",
      "{'user_220': {'item_20': 'comment'}}\n",
      "{'user_427': {'item_23': 'like'}}\n",
      "{'user_512': {'item_19': 'dislike'}}\n",
      "{'user_322': {'item_6': 'comment'}}\n",
      "{'user_332': {'item_29': 'like'}}\n",
      "{'user_673': {'item_26': 'dislike'}}\n",
      "{'user_89': {'item_0': 'like'}}\n",
      "{'user_272': {'item_14': 'dislike'}}\n",
      "{'user_652': {'item_22': 'comment'}}\n",
      "{'user_737': {'item_16': 'dislike'}}\n",
      "{'user_85': {'item_27': 'comment'}}\n",
      "{'user_887': {'item_15': 'comment'}}\n",
      "{'user_464': {'item_20': 'like'}}\n",
      "{'user_730': {'item_2': 'comment'}}\n",
      "{'user_319': {'item_11': 'like'}}\n",
      "{'user_396': {'item_16': 'comment'}}\n",
      "{'user_947': {'item_2': 'comment'}}\n",
      "{'user_511': {'item_5': 'like'}}\n",
      "{'user_328': {'item_16': 'like'}}\n",
      "{'user_95': {'item_20': 'like'}}\n",
      "{'user_439': {'item_4': 'comment'}}\n",
      "{'user_765': {'item_0': 'comment'}}\n",
      "{'user_842': {'item_4': 'dislike'}}\n",
      "{'user_846': {'item_2': 'dislike'}}\n",
      "{'user_0': {'item_0': 'comment'}}\n",
      "{'user_864': {'item_18': 'dislike'}}\n",
      "{'user_289': {'item_29': 'dislike'}}\n",
      "{'user_308': {'item_7': 'dislike'}}\n",
      "{'user_132': {'item_4': 'comment'}}\n",
      "{'user_960': {'item_21': 'like'}}\n",
      "{'user_427': {'item_12': 'comment'}}\n",
      "{'user_250': {'item_0': 'like'}}\n",
      "{'user_646': {'item_0': 'dislike'}}\n",
      "{'user_898': {'item_1': 'dislike'}}\n",
      "{'user_669': {'item_15': 'like'}}\n",
      "{'user_975': {'item_12': 'dislike'}}\n",
      "{'user_861': {'item_13': 'dislike'}}\n",
      "{'user_403': {'item_5': 'dislike'}}\n",
      "{'user_982': {'item_1': 'comment'}}\n",
      "{'user_590': {'item_7': 'like'}}\n",
      "{'user_703': {'item_17': 'like'}}\n",
      "{'user_685': {'item_21': 'comment'}}\n",
      "{'user_105': {'item_12': 'dislike'}}\n",
      "{'user_197': {'item_15': 'comment'}}\n",
      "{'user_130': {'item_25': 'dislike'}}\n",
      "{'user_830': {'item_8': 'comment'}}\n",
      "{'user_402': {'item_0': 'dislike'}}\n",
      "{'user_51': {'item_13': 'dislike'}}\n",
      "{'user_849': {'item_26': 'comment'}}\n",
      "{'user_324': {'item_29': 'like'}}\n",
      "{'user_204': {'item_5': 'dislike'}}\n",
      "{'user_603': {'item_7': 'like'}}\n",
      "{'user_967': {'item_5': 'dislike'}}\n",
      "{'user_63': {'item_4': 'comment'}}\n",
      "{'user_243': {'item_24': 'dislike'}}\n",
      "{'user_376': {'item_5': 'dislike'}}\n",
      "__reading from {'bookmarks'} topics__\n"
     ]
    },
    {
     "name": "stdout",
     "output_type": "stream",
     "text": [
      "{'user_402': 'item_17'}\n",
      "{'user_968': 'item_4'}\n",
      "{'user_630': 'item_11'}\n",
      "{'user_328': 'item_26'}\n",
      "{'user_206': 'item_29'}\n",
      "{'user_482': 'item_27'}\n",
      "{'user_235': 'item_3'}\n",
      "{'user_92': 'item_9'}\n",
      "{'user_963': 'item_23'}\n",
      "{'user_956': 'item_3'}\n"
     ]
    }
   ],
   "source": [
    "for cons in consumers:\n",
    "    print(f\"__reading from {cons.subscription()} topics__\")\n",
    "    print(*read_messages(cons), sep='\\n')"
   ]
  },
  {
   "cell_type": "code",
   "execution_count": 25,
   "metadata": {},
   "outputs": [
    {
     "name": "stdout",
     "output_type": "stream",
     "text": [
      "Message 'user_363: {'item_20': 'dislike'}' published successfully.\n"
     ]
    }
   ],
   "source": [
    "for key, value in generate_clickstream(1):\n",
    "    publish_message(producer, kafka_topics[0], key, value)"
   ]
  },
  {
   "cell_type": "code",
   "execution_count": 26,
   "metadata": {},
   "outputs": [
    {
     "name": "stdout",
     "output_type": "stream",
     "text": [
      "Message 'user_459: item_23' published successfully.\n",
      "Message 'user_826: item_15' published successfully.\n",
      "Message 'user_165: item_17' published successfully.\n",
      "Message 'user_419: item_27' published successfully.\n",
      "Message 'user_923: item_11' published successfully.\n",
      "Message 'user_272: item_26' published successfully.\n",
      "Message 'user_397: item_9' published successfully.\n",
      "Message 'user_50: item_11' published successfully.\n",
      "Message 'user_495: item_12' published successfully.\n",
      "Message 'user_654: item_11' published successfully.\n"
     ]
    }
   ],
   "source": [
    "for key, value in generate_bookmarks(10):\n",
    "    publish_message(producer, kafka_topics[1], key, value)"
   ]
  },
  {
   "cell_type": "code",
   "execution_count": 27,
   "metadata": {},
   "outputs": [
    {
     "name": "stdout",
     "output_type": "stream",
     "text": [
      "__reading from {'mytopic'} topics__\n",
      "{'user_363': {'item_20': 'dislike'}}\n",
      "__reading from {'bookmarks'} topics__\n",
      "{'user_459': 'item_23'}\n",
      "{'user_826': 'item_15'}\n",
      "{'user_165': 'item_17'}\n",
      "{'user_419': 'item_27'}\n",
      "{'user_923': 'item_11'}\n",
      "{'user_272': 'item_26'}\n",
      "{'user_397': 'item_9'}\n",
      "{'user_50': 'item_11'}\n",
      "{'user_495': 'item_12'}\n",
      "{'user_654': 'item_11'}\n"
     ]
    }
   ],
   "source": [
    "for cons in consumers:\n",
    "    print(f\"__reading from {cons.subscription()} topics__\")\n",
    "    print(*read_messages(cons), sep='\\n')"
   ]
  },
  {
   "cell_type": "code",
   "execution_count": 28,
   "metadata": {},
   "outputs": [],
   "source": [
    "if producer is not None:\n",
    "    producer.close()\n",
    "for cons in consumers:\n",
    "    if cons is not None:\n",
    "        cons.close()"
   ]
  },
  {
   "cell_type": "code",
   "execution_count": 29,
   "metadata": {},
   "outputs": [
    {
     "name": "stdout",
     "output_type": "stream",
     "text": [
      "Exception in publishing message\n",
      "RecordAccumulator is closed\n"
     ]
    }
   ],
   "source": [
    "for key, value in generate_clickstream(1):\n",
    "    publish_message(producer, kafka_topics[0], key, value)"
   ]
  },
  {
   "cell_type": "code",
   "execution_count": null,
   "metadata": {},
   "outputs": [],
   "source": []
  }
 ],
 "metadata": {
  "kernelspec": {
   "display_name": "Python 3",
   "language": "python",
   "name": "python3"
  },
  "language_info": {
   "codemirror_mode": {
    "name": "ipython",
    "version": 3
   },
   "file_extension": ".py",
   "mimetype": "text/x-python",
   "name": "python",
   "nbconvert_exporter": "python",
   "pygments_lexer": "ipython3",
   "version": "3.7.6"
  },
  "pycharm": {
   "stem_cell": {
    "cell_type": "raw",
    "metadata": {
     "collapsed": false
    },
    "source": []
   }
  }
 },
 "nbformat": 4,
 "nbformat_minor": 1
}
