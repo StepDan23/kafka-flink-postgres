{
 "cells": [
  {
   "cell_type": "code",
   "execution_count": 1,
   "metadata": {},
   "outputs": [],
   "source": [
    "import sys\n",
    "sys.path.append('../')"
   ]
  },
  {
   "cell_type": "code",
   "execution_count": 2,
   "metadata": {},
   "outputs": [],
   "source": [
    "import numpy as np\n",
    "from src.utils import publish_message, read_messages\n",
    "from src.utils import connect_kafka_producer, connect_kafka_consumer"
   ]
  },
  {
   "cell_type": "code",
   "execution_count": 3,
   "metadata": {},
   "outputs": [],
   "source": [
    "kafka_servers = ['kafka:9093']\n",
    "kafka_topics = ['mytopic', 'bookmarks']"
   ]
  },
  {
   "cell_type": "code",
   "execution_count": 4,
   "metadata": {},
   "outputs": [],
   "source": [
    "def generate_clickstream(n_samples=5):\n",
    "    sample = []\n",
    "    for i in range(n_samples):\n",
    "        key = f\"user_{np.random.randint(1000)}\"\n",
    "        item = f\"item_{np.random.randint(30)}\"\n",
    "        reaction = np.random.choice(['like', 'dislike', 'comment'])\n",
    "        value = {item: reaction}\n",
    "        sample.append((key, value))\n",
    "    return sample"
   ]
  },
  {
   "cell_type": "code",
   "execution_count": 5,
   "metadata": {},
   "outputs": [],
   "source": [
    "def generate_bookmarks(n_samples=5):\n",
    "    sample = []\n",
    "    for i in range(n_samples):\n",
    "        key = f\"user_{np.random.randint(1000)}\"\n",
    "        value = f\"item_{np.random.randint(30)}\"\n",
    "        sample.append((key, value))\n",
    "    return sample"
   ]
  },
  {
   "cell_type": "code",
   "execution_count": 6,
   "metadata": {},
   "outputs": [
    {
     "name": "stdout",
     "output_type": "stream",
     "text": [
      "Message 'user_183: {'item_23': 'like'}' published successfully.\n",
      "Message 'user_597: {'item_1': 'comment'}' published successfully.\n",
      "Message 'user_480: {'item_19': 'dislike'}' published successfully.\n",
      "Message 'user_110: {'item_22': 'comment'}' published successfully.\n",
      "Message 'user_788: {'item_7': 'like'}' published successfully.\n"
     ]
    }
   ],
   "source": [
    "producer = connect_kafka_producer(kafka_servers)\n",
    "\n",
    "for key, value in generate_clickstream(5):\n",
    "    publish_message(producer, kafka_topics[0], key, value)"
   ]
  },
  {
   "cell_type": "code",
   "execution_count": 7,
   "metadata": {},
   "outputs": [
    {
     "name": "stdout",
     "output_type": "stream",
     "text": [
      "Message 'user_973: item_20' published successfully.\n",
      "Message 'user_883: item_6' published successfully.\n",
      "Message 'user_886: item_17' published successfully.\n",
      "Message 'user_790: item_14' published successfully.\n",
      "Message 'user_581: item_27' published successfully.\n"
     ]
    }
   ],
   "source": [
    "for key, value in generate_bookmarks(5):\n",
    "    publish_message(producer, kafka_topics[1], key, value)"
   ]
  },
  {
   "cell_type": "code",
   "execution_count": 8,
   "metadata": {},
   "outputs": [
    {
     "name": "stdout",
     "output_type": "stream",
     "text": [
      "adding consumer for mytopic topic\n",
      "adding consumer for bookmarks topic\n"
     ]
    }
   ],
   "source": [
    "consumers = []\n",
    "for topic in kafka_topics:\n",
    "    print(f\"adding consumer for {topic} topic\")\n",
    "    consumers.append(connect_kafka_consumer(topic, kafka_servers))"
   ]
  },
  {
   "cell_type": "code",
   "execution_count": 9,
   "metadata": {},
   "outputs": [
    {
     "name": "stdout",
     "output_type": "stream",
     "text": [
      "__reading from {'mytopic'} topics__\n",
      "{'user_183': {'item_23': 'like'}}\n",
      "{'user_597': {'item_1': 'comment'}}\n",
      "{'user_480': {'item_19': 'dislike'}}\n",
      "{'user_110': {'item_22': 'comment'}}\n",
      "{'user_788': {'item_7': 'like'}}\n",
      "__reading from {'bookmarks'} topics__\n",
      "{'user_973': 'item_20'}\n",
      "{'user_883': 'item_6'}\n",
      "{'user_886': 'item_17'}\n",
      "{'user_790': 'item_14'}\n",
      "{'user_581': 'item_27'}\n"
     ]
    }
   ],
   "source": [
    "for cons in consumers:\n",
    "    print(f\"__reading from {cons.subscription()} topics__\")\n",
    "    print(*read_messages(cons), sep='\\n')"
   ]
  },
  {
   "cell_type": "code",
   "execution_count": 10,
   "metadata": {},
   "outputs": [
    {
     "name": "stdout",
     "output_type": "stream",
     "text": [
      "Message 'user_627: {'item_12': 'dislike'}' published successfully.\n"
     ]
    }
   ],
   "source": [
    "for key, value in generate_clickstream(1):\n",
    "    publish_message(producer, kafka_topics[0], key, value)"
   ]
  },
  {
   "cell_type": "code",
   "execution_count": 11,
   "metadata": {},
   "outputs": [
    {
     "name": "stdout",
     "output_type": "stream",
     "text": [
      "Message 'user_436: item_25' published successfully.\n",
      "Message 'user_474: item_17' published successfully.\n",
      "Message 'user_565: item_28' published successfully.\n",
      "Message 'user_821: item_19' published successfully.\n",
      "Message 'user_269: item_6' published successfully.\n",
      "Message 'user_273: item_18' published successfully.\n",
      "Message 'user_563: item_6' published successfully.\n",
      "Message 'user_732: item_10' published successfully.\n",
      "Message 'user_433: item_6' published successfully.\n",
      "Message 'user_534: item_2' published successfully.\n"
     ]
    }
   ],
   "source": [
    "for key, value in generate_bookmarks(10):\n",
    "    publish_message(producer, kafka_topics[1], key, value)"
   ]
  },
  {
   "cell_type": "code",
   "execution_count": 12,
   "metadata": {},
   "outputs": [
    {
     "name": "stdout",
     "output_type": "stream",
     "text": [
      "__reading from {'mytopic'} topics__\n",
      "{'user_627': {'item_12': 'dislike'}}\n",
      "__reading from {'bookmarks'} topics__\n",
      "{'user_436': 'item_25'}\n",
      "{'user_474': 'item_17'}\n",
      "{'user_565': 'item_28'}\n",
      "{'user_821': 'item_19'}\n",
      "{'user_269': 'item_6'}\n",
      "{'user_273': 'item_18'}\n",
      "{'user_563': 'item_6'}\n",
      "{'user_732': 'item_10'}\n",
      "{'user_433': 'item_6'}\n",
      "{'user_534': 'item_2'}\n"
     ]
    }
   ],
   "source": [
    "for cons in consumers:\n",
    "    print(f\"__reading from {cons.subscription()} topics__\")\n",
    "    print(*read_messages(cons), sep='\\n')"
   ]
  },
  {
   "cell_type": "code",
   "execution_count": 13,
   "metadata": {},
   "outputs": [],
   "source": [
    "if producer is not None:\n",
    "    producer.close()\n",
    "for cons in consumers:\n",
    "    if cons is not None:\n",
    "        cons.close()"
   ]
  },
  {
   "cell_type": "code",
   "execution_count": 14,
   "metadata": {},
   "outputs": [
    {
     "name": "stdout",
     "output_type": "stream",
     "text": [
      "Exception in publishing message\n",
      "RecordAccumulator is closed\n"
     ]
    }
   ],
   "source": [
    "for key, value in generate_clickstream(1):\n",
    "    publish_message(producer, kafka_topics[0], key, value)"
   ]
  },
  {
   "cell_type": "code",
   "execution_count": null,
   "metadata": {},
   "outputs": [],
   "source": []
  }
 ],
 "metadata": {
  "kernelspec": {
   "display_name": "Python 3",
   "language": "python",
   "name": "python3"
  },
  "language_info": {
   "codemirror_mode": {
    "name": "ipython",
    "version": 3
   },
   "file_extension": ".py",
   "mimetype": "text/x-python",
   "name": "python",
   "nbconvert_exporter": "python",
   "pygments_lexer": "ipython3",
   "version": "3.7.6"
  },
  "pycharm": {
   "stem_cell": {
    "cell_type": "raw",
    "source": [],
    "metadata": {
     "collapsed": false
    }
   }
  }
 },
 "nbformat": 4,
 "nbformat_minor": 1
}