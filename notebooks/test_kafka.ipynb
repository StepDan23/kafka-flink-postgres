{
 "cells": [
  {
   "cell_type": "code",
   "execution_count": 1,
   "metadata": {},
   "outputs": [],
   "source": [
    "import sys\n",
    "sys.path.append('../')"
   ]
  },
  {
   "cell_type": "code",
   "execution_count": 2,
   "metadata": {},
   "outputs": [],
   "source": [
    "import numpy as np\n",
    "from src.utils import publish_message, read_messages\n",
    "from src.utils import connect_kafka_producer, connect_kafka_consumer"
   ]
  },
  {
   "cell_type": "code",
   "execution_count": 3,
   "metadata": {},
   "outputs": [],
   "source": [
    "kafka_servers = ['kafka:9093']\n",
    "kafka_topics = ['clickstream', 'bookmarks']"
   ]
  },
  {
   "cell_type": "code",
   "execution_count": 4,
   "metadata": {},
   "outputs": [],
   "source": [
    "def generate_clickstream(n_samples=5):\n",
    "    sample = []\n",
    "    for i in range(n_samples):\n",
    "        key = f\"user_{np.random.randint(1000)}\"\n",
    "        item = f\"item_{np.random.randint(30)}\"\n",
    "        reaction = np.random.choice(['like', 'dislike', 'comment'])\n",
    "        value = {item: reaction}\n",
    "        sample.append((key, value))\n",
    "    return sample"
   ]
  },
  {
   "cell_type": "code",
   "execution_count": 5,
   "metadata": {},
   "outputs": [],
   "source": [
    "def generate_bookmarks(n_samples=5):\n",
    "    sample = []\n",
    "    for i in range(n_samples):\n",
    "        key = f\"user_{np.random.randint(1000)}\"\n",
    "        value = f\"item_{np.random.randint(30)}\"\n",
    "        sample.append((key, value))\n",
    "    return sample"
   ]
  },
  {
   "cell_type": "code",
   "execution_count": 6,
   "metadata": {},
   "outputs": [
    {
     "name": "stdout",
     "output_type": "stream",
     "text": [
      "Message 'user_532: {'item_29': 'comment'}' published successfully.\n",
      "Message 'user_804: {'item_5': 'comment'}' published successfully.\n",
      "Message 'user_996: {'item_17': 'comment'}' published successfully.\n",
      "Message 'user_351: {'item_28': 'like'}' published successfully.\n",
      "Message 'user_458: {'item_18': 'dislike'}' published successfully.\n"
     ]
    }
   ],
   "source": [
    "producer = connect_kafka_producer(kafka_servers)\n",
    "\n",
    "for key, value in generate_clickstream(5):\n",
    "    publish_message(producer, kafka_topics[0], key, value)"
   ]
  },
  {
   "cell_type": "code",
   "execution_count": 7,
   "metadata": {},
   "outputs": [
    {
     "name": "stdout",
     "output_type": "stream",
     "text": [
      "Message 'user_12: item_10' published successfully.\n",
      "Message 'user_623: item_9' published successfully.\n",
      "Message 'user_608: item_23' published successfully.\n",
      "Message 'user_689: item_0' published successfully.\n",
      "Message 'user_814: item_18' published successfully.\n"
     ]
    }
   ],
   "source": [
    "for key, value in generate_bookmarks(5):\n",
    "    publish_message(producer, kafka_topics[1], key, value)"
   ]
  },
  {
   "cell_type": "code",
   "execution_count": 8,
   "metadata": {},
   "outputs": [
    {
     "name": "stdout",
     "output_type": "stream",
     "text": [
      "adding consumer for clickstream topic\n",
      "adding consumer for bookmarks topic\n"
     ]
    }
   ],
   "source": [
    "consumers = []\n",
    "for topic in kafka_topics:\n",
    "    print(f\"adding consumer for {topic} topic\")\n",
    "    consumers.append(connect_kafka_consumer(topic, kafka_servers))"
   ]
  },
  {
   "cell_type": "code",
   "execution_count": 9,
   "metadata": {},
   "outputs": [
    {
     "name": "stdout",
     "output_type": "stream",
     "text": [
      "__reading from {'clickstream'} topics__\n",
      "{'user_133': {'item_28': 'comment'}}\n",
      "{'user_583': {'item_15': 'dislike'}}\n",
      "{'user_201': {'item_17': 'like'}}\n",
      "{'user_524': {'item_3': 'like'}}\n",
      "{'user_739': {'item_20': 'like'}}\n",
      "{'user_398': {'item_20': 'like'}}\n",
      "{'user_721': {'item_24': 'comment'}}\n",
      "{'user_532': {'item_29': 'comment'}}\n",
      "{'user_804': {'item_5': 'comment'}}\n",
      "{'user_351': {'item_28': 'like'}}\n",
      "{'user_458': {'item_18': 'dislike'}}\n",
      "{'user_205': {'item_6': 'like'}}\n",
      "{'user_200': {'item_1': 'comment'}}\n",
      "{'user_543': {'item_15': 'dislike'}}\n",
      "{'user_152': {'item_7': 'like'}}\n",
      "{'user_996': {'item_17': 'comment'}}\n",
      "__reading from {'bookmarks'} topics__\n",
      "{'user_681': 'item_4'}\n",
      "{'user_895': 'item_3'}\n",
      "{'user_997': 'item_28'}\n",
      "{'user_477': 'item_13'}\n",
      "{'user_145': 'item_26'}\n",
      "{'user_978': 'item_7'}\n",
      "{'user_478': 'item_24'}\n",
      "{'user_715': 'item_1'}\n",
      "{'user_663': 'item_20'}\n",
      "{'user_980': 'item_28'}\n",
      "{'user_865': 'item_9'}\n",
      "{'user_832': 'item_23'}\n",
      "{'user_72': 'item_5'}\n",
      "{'user_719': 'item_9'}\n",
      "{'user_224': 'item_27'}\n",
      "{'user_925': 'item_8'}\n",
      "{'user_670': 'item_26'}\n",
      "{'user_638': 'item_13'}\n",
      "{'user_757': 'item_28'}\n",
      "{'user_419': 'item_16'}\n",
      "{'user_12': 'item_10'}\n",
      "{'user_623': 'item_9'}\n",
      "{'user_608': 'item_23'}\n",
      "{'user_689': 'item_0'}\n",
      "{'user_814': 'item_18'}\n"
     ]
    }
   ],
   "source": [
    "for cons in consumers:\n",
    "    print(f\"__reading from {cons.subscription()} topics__\")\n",
    "    print(*read_messages(cons), sep='\\n')"
   ]
  },
  {
   "cell_type": "code",
   "execution_count": 10,
   "metadata": {},
   "outputs": [
    {
     "name": "stdout",
     "output_type": "stream",
     "text": [
      "Message 'user_737: {'item_3': 'comment'}' published successfully.\n"
     ]
    }
   ],
   "source": [
    "for key, value in generate_clickstream(1):\n",
    "    publish_message(producer, kafka_topics[0], key, value)"
   ]
  },
  {
   "cell_type": "code",
   "execution_count": 11,
   "metadata": {},
   "outputs": [
    {
     "name": "stdout",
     "output_type": "stream",
     "text": [
      "Message 'user_168: item_29' published successfully.\n",
      "Message 'user_518: item_12' published successfully.\n",
      "Message 'user_817: item_6' published successfully.\n",
      "Message 'user_716: item_14' published successfully.\n",
      "Message 'user_704: item_26' published successfully.\n",
      "Message 'user_65: item_27' published successfully.\n",
      "Message 'user_872: item_6' published successfully.\n",
      "Message 'user_97: item_14' published successfully.\n",
      "Message 'user_746: item_4' published successfully.\n",
      "Message 'user_970: item_24' published successfully.\n"
     ]
    }
   ],
   "source": [
    "for key, value in generate_bookmarks(10):\n",
    "    publish_message(producer, kafka_topics[1], key, value)"
   ]
  },
  {
   "cell_type": "code",
   "execution_count": 12,
   "metadata": {},
   "outputs": [
    {
     "name": "stdout",
     "output_type": "stream",
     "text": [
      "__reading from {'clickstream'} topics__\n",
      "{'user_737': {'item_3': 'comment'}}\n",
      "__reading from {'bookmarks'} topics__\n",
      "{'user_168': 'item_29'}\n",
      "{'user_518': 'item_12'}\n",
      "{'user_817': 'item_6'}\n",
      "{'user_716': 'item_14'}\n",
      "{'user_704': 'item_26'}\n",
      "{'user_65': 'item_27'}\n",
      "{'user_872': 'item_6'}\n",
      "{'user_97': 'item_14'}\n",
      "{'user_746': 'item_4'}\n",
      "{'user_970': 'item_24'}\n"
     ]
    }
   ],
   "source": [
    "for cons in consumers:\n",
    "    print(f\"__reading from {cons.subscription()} topics__\")\n",
    "    print(*read_messages(cons), sep='\\n')"
   ]
  },
  {
   "cell_type": "code",
   "execution_count": 13,
   "metadata": {},
   "outputs": [],
   "source": [
    "if producer is not None:\n",
    "    producer.close()\n",
    "for cons in consumers:\n",
    "    if cons is not None:\n",
    "        cons.close()"
   ]
  },
  {
   "cell_type": "code",
   "execution_count": 15,
   "metadata": {},
   "outputs": [
    {
     "name": "stdout",
     "output_type": "stream",
     "text": [
      "Exception in publishing message\n",
      "RecordAccumulator is closed\n"
     ]
    }
   ],
   "source": [
    "for key, value in generate_clickstream(1):\n",
    "    publish_message(producer, kafka_topics[0], key, value)"
   ]
  },
  {
   "cell_type": "code",
   "execution_count": null,
   "metadata": {},
   "outputs": [],
   "source": []
  }
 ],
 "metadata": {
  "kernelspec": {
   "display_name": "Python 3",
   "language": "python",
   "name": "python3"
  },
  "language_info": {
   "codemirror_mode": {
    "name": "ipython",
    "version": 3
   },
   "file_extension": ".py",
   "mimetype": "text/x-python",
   "name": "python",
   "nbconvert_exporter": "python",
   "pygments_lexer": "ipython3",
   "version": "3.7.6"
  },
  "pycharm": {
   "stem_cell": {
    "cell_type": "raw",
    "metadata": {
     "collapsed": false
    },
    "source": []
   }
  }
 },
 "nbformat": 4,
 "nbformat_minor": 1
}
